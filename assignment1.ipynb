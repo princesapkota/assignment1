{
  "nbformat": 4,
  "nbformat_minor": 0,
  "metadata": {
    "colab": {
      "provenance": [],
      "mount_file_id": "1CzjFqMa6yz9qYB4lgQQqJg9-L1Imkvy8",
      "authorship_tag": "ABX9TyMpUn0EWs6UA56C3Rf64yZR",
      "include_colab_link": true
    },
    "kernelspec": {
      "name": "python3",
      "display_name": "Python 3"
    },
    "language_info": {
      "name": "python"
    }
  },
  "cells": [
    {
      "cell_type": "markdown",
      "metadata": {
        "id": "view-in-github",
        "colab_type": "text"
      },
      "source": [
        "<a href=\"https://colab.research.google.com/github/princesapkota/assignment1/blob/main/assignment1.ipynb\" target=\"_parent\"><img src=\"https://colab.research.google.com/assets/colab-badge.svg\" alt=\"Open In Colab\"/></a>"
      ]
    },
    {
      "cell_type": "code",
      "execution_count": null,
      "metadata": {
        "id": "x9Vxhxkd6rp6"
      },
      "outputs": [],
      "source": [
        "import pandas as pd\n",
        "import numpy as np\n",
        "import matplotlib.pyplot as plt\n",
        "import seaborn as sns"
      ]
    },
    {
      "cell_type": "code",
      "source": [
        "from google.colab import drive\n",
        "drive.mount('/content/drive/MyDrive/datasets/WHR-2024-5CS037.csv')"
      ],
      "metadata": {
        "colab": {
          "base_uri": "https://localhost:8080/"
        },
        "collapsed": true,
        "id": "lF6jtnn06xd6",
        "outputId": "d00b79b5-d124-4c2b-8d29-659529a816ad"
      },
      "execution_count": null,
      "outputs": [
        {
          "output_type": "stream",
          "name": "stdout",
          "text": [
            "Drive already mounted at /content/drive; to attempt to forcibly remount, call drive.mount(\"/content/drive\", force_remount=True).\n"
          ]
        }
      ]
    },
    {
      "cell_type": "markdown",
      "source": [
        "3.1 Problem - 1: Getting Started with Data Exploration - Some Warm up\n",
        "Exercises:\n",
        "1. Data Exploration and Understanding:\n",
        "\n",
        "• Dataset Overview:\n"
      ],
      "metadata": {
        "id": "5TcfZdMH9Bvy"
      }
    },
    {
      "cell_type": "code",
      "source": [
        "#Load the dataset and display the first 10 rows.\n",
        "data = pd.read_csv('/content/drive/MyDrive/datasets/WHR-2024-5CS037.csv')\n",
        "print (data.head(10))"
      ],
      "metadata": {
        "colab": {
          "base_uri": "https://localhost:8080/"
        },
        "collapsed": true,
        "id": "_xfZ-pUE7lEh",
        "outputId": "4f5f4306-5684-4e62-a0aa-1e9dddff8272"
      },
      "execution_count": null,
      "outputs": [
        {
          "output_type": "stream",
          "name": "stdout",
          "text": [
            "  Country name  score  Log GDP per capita  Social support  \\\n",
            "0      Finland  7.741               1.844           1.572   \n",
            "1      Denmark  7.583               1.908           1.520   \n",
            "2      Iceland  7.525               1.881           1.617   \n",
            "3       Sweden  7.344               1.878           1.501   \n",
            "4       Israel  7.341               1.803           1.513   \n",
            "5  Netherlands  7.319               1.901           1.462   \n",
            "6       Norway  7.302               1.952           1.517   \n",
            "7   Luxembourg  7.122               2.141           1.355   \n",
            "8  Switzerland  7.060               1.970           1.425   \n",
            "9    Australia  7.057               1.854           1.461   \n",
            "\n",
            "   Healthy life expectancy  Freedom to make life choices  Generosity  \\\n",
            "0                    0.695                         0.859       0.142   \n",
            "1                    0.699                         0.823       0.204   \n",
            "2                    0.718                         0.819       0.258   \n",
            "3                    0.724                         0.838       0.221   \n",
            "4                    0.740                         0.641       0.153   \n",
            "5                    0.706                         0.725       0.247   \n",
            "6                    0.704                         0.835       0.224   \n",
            "7                    0.708                         0.801       0.146   \n",
            "8                    0.747                         0.759       0.173   \n",
            "9                    0.692                         0.756       0.225   \n",
            "\n",
            "   Perceptions of corruption  Dystopia + residual  \n",
            "0                      0.546                2.082  \n",
            "1                      0.548                1.881  \n",
            "2                      0.182                2.050  \n",
            "3                      0.524                1.658  \n",
            "4                      0.193                2.298  \n",
            "5                      0.372                1.906  \n",
            "6                      0.484                1.586  \n",
            "7                      0.432                1.540  \n",
            "8                      0.498                1.488  \n",
            "9                      0.323                1.745  \n"
          ]
        }
      ]
    },
    {
      "cell_type": "code",
      "source": [
        "#Identify the number of rows and columns in the dataset.\n",
        "rows, columns = data.shape\n",
        "print(f\"Rows: {rows}, Columns: {columns}\")"
      ],
      "metadata": {
        "colab": {
          "base_uri": "https://localhost:8080/"
        },
        "id": "SHPtG8a89ZjO",
        "outputId": "58b7a8c6-0308-4a13-8567-a0aa05cdc2d6"
      },
      "execution_count": null,
      "outputs": [
        {
          "output_type": "stream",
          "name": "stdout",
          "text": [
            "Rows: 143, Columns: 9\n"
          ]
        }
      ]
    },
    {
      "cell_type": "code",
      "source": [
        "#List all the columns and their data types.\n",
        "print(data.dtypes)"
      ],
      "metadata": {
        "colab": {
          "base_uri": "https://localhost:8080/"
        },
        "id": "LUSQFr9i9tQx",
        "outputId": "4c486d29-73e6-4db1-d704-cc5dbd93ca1f"
      },
      "execution_count": null,
      "outputs": [
        {
          "output_type": "stream",
          "name": "stdout",
          "text": [
            "Country name                     object\n",
            "score                           float64\n",
            "Log GDP per capita              float64\n",
            "Social support                  float64\n",
            "Healthy life expectancy         float64\n",
            "Freedom to make life choices    float64\n",
            "Generosity                      float64\n",
            "Perceptions of corruption       float64\n",
            "Dystopia + residual             float64\n",
            "dtype: object\n"
          ]
        }
      ]
    },
    {
      "cell_type": "markdown",
      "source": [
        "• Basic Statistics:"
      ],
      "metadata": {
        "id": "uQ-A1iVB-ER-"
      }
    },
    {
      "cell_type": "code",
      "source": [
        "# Calculate the mean, median, and standard deviation for the 'score' column\n",
        "mean_score = data['score'].mean()\n",
        "median_score = data['score'].median()\n",
        "std_dev_score = data['score'].std()\n",
        "\n",
        "print(f\"Mean: {mean_score}\")\n",
        "print(f\"Median: {median_score}\")\n",
        "print(f\"Standard Deviation: {std_dev_score}\")"
      ],
      "metadata": {
        "colab": {
          "base_uri": "https://localhost:8080/"
        },
        "id": "MTMZbFIf-Ifj",
        "outputId": "c07544a0-1086-43cc-ca3a-3938f8f9bb79"
      },
      "execution_count": null,
      "outputs": [
        {
          "output_type": "stream",
          "name": "stdout",
          "text": [
            "Mean: 5.52758041958042\n",
            "Median: 5.785\n",
            "Standard Deviation: 1.1707165099442995\n"
          ]
        }
      ]
    },
    {
      "cell_type": "code",
      "source": [],
      "metadata": {
        "id": "_5iPvAVD-d9u"
      },
      "execution_count": null,
      "outputs": []
    }
  ]
}